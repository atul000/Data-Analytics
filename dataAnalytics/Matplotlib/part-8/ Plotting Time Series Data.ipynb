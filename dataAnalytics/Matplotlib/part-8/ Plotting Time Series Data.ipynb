{
 "cells": [
  {
   "cell_type": "code",
   "execution_count": 26,
   "metadata": {},
   "outputs": [],
   "source": [
    "import pandas as pd\n",
    "from datetime import datetime, timedelta\n",
    "from matplotlib import pyplot as plt\n",
    "from matplotlib import dates as mpl_dates"
   ]
  },
  {
   "cell_type": "code",
   "execution_count": 27,
   "metadata": {},
   "outputs": [],
   "source": [
    "plt.style.use('seaborn')"
   ]
  },
  {
   "cell_type": "code",
   "execution_count": 28,
   "metadata": {},
   "outputs": [],
   "source": [
    "data = pd.read_csv('https://raw.githubusercontent.com/CoreyMSchafer/code_snippets/master/Python/Matplotlib/08-TimeSeries/data.csv')"
   ]
  },
  {
   "cell_type": "code",
   "execution_count": 29,
   "metadata": {},
   "outputs": [],
   "source": [
    "data['Date'] = pd.to_datetime(data['Date'])\n",
    "data.sort_values('Date', inplace=True)"
   ]
  },
  {
   "cell_type": "code",
   "execution_count": 30,
   "metadata": {},
   "outputs": [
    {
     "data": {
      "text/html": [
       "<div>\n",
       "<style scoped>\n",
       "    .dataframe tbody tr th:only-of-type {\n",
       "        vertical-align: middle;\n",
       "    }\n",
       "\n",
       "    .dataframe tbody tr th {\n",
       "        vertical-align: top;\n",
       "    }\n",
       "\n",
       "    .dataframe thead th {\n",
       "        text-align: right;\n",
       "    }\n",
       "</style>\n",
       "<table border=\"1\" class=\"dataframe\">\n",
       "  <thead>\n",
       "    <tr style=\"text-align: right;\">\n",
       "      <th></th>\n",
       "      <th>Date</th>\n",
       "      <th>Open</th>\n",
       "      <th>High</th>\n",
       "      <th>Low</th>\n",
       "      <th>Close</th>\n",
       "      <th>Adj Close</th>\n",
       "      <th>Volume</th>\n",
       "    </tr>\n",
       "  </thead>\n",
       "  <tbody>\n",
       "    <tr>\n",
       "      <th>0</th>\n",
       "      <td>2019-05-18</td>\n",
       "      <td>7266.080078</td>\n",
       "      <td>8281.660156</td>\n",
       "      <td>7257.259766</td>\n",
       "      <td>8193.139648</td>\n",
       "      <td>8193.139648</td>\n",
       "      <td>723011166</td>\n",
       "    </tr>\n",
       "    <tr>\n",
       "      <th>1</th>\n",
       "      <td>2019-05-19</td>\n",
       "      <td>8193.139648</td>\n",
       "      <td>8193.139648</td>\n",
       "      <td>7591.850098</td>\n",
       "      <td>7998.290039</td>\n",
       "      <td>7998.290039</td>\n",
       "      <td>637617163</td>\n",
       "    </tr>\n",
       "    <tr>\n",
       "      <th>2</th>\n",
       "      <td>2019-05-20</td>\n",
       "      <td>7998.290039</td>\n",
       "      <td>8102.319824</td>\n",
       "      <td>7807.770020</td>\n",
       "      <td>7947.930176</td>\n",
       "      <td>7947.930176</td>\n",
       "      <td>357803946</td>\n",
       "    </tr>\n",
       "    <tr>\n",
       "      <th>3</th>\n",
       "      <td>2019-05-21</td>\n",
       "      <td>7947.930176</td>\n",
       "      <td>8033.759766</td>\n",
       "      <td>7533.660156</td>\n",
       "      <td>7626.890137</td>\n",
       "      <td>7626.890137</td>\n",
       "      <td>424501866</td>\n",
       "    </tr>\n",
       "    <tr>\n",
       "      <th>4</th>\n",
       "      <td>2019-05-22</td>\n",
       "      <td>7626.890137</td>\n",
       "      <td>7971.259766</td>\n",
       "      <td>7478.740234</td>\n",
       "      <td>7876.500000</td>\n",
       "      <td>7876.500000</td>\n",
       "      <td>386766321</td>\n",
       "    </tr>\n",
       "  </tbody>\n",
       "</table>\n",
       "</div>"
      ],
      "text/plain": [
       "        Date         Open         High          Low        Close    Adj Close  \\\n",
       "0 2019-05-18  7266.080078  8281.660156  7257.259766  8193.139648  8193.139648   \n",
       "1 2019-05-19  8193.139648  8193.139648  7591.850098  7998.290039  7998.290039   \n",
       "2 2019-05-20  7998.290039  8102.319824  7807.770020  7947.930176  7947.930176   \n",
       "3 2019-05-21  7947.930176  8033.759766  7533.660156  7626.890137  7626.890137   \n",
       "4 2019-05-22  7626.890137  7971.259766  7478.740234  7876.500000  7876.500000   \n",
       "\n",
       "      Volume  \n",
       "0  723011166  \n",
       "1  637617163  \n",
       "2  357803946  \n",
       "3  424501866  \n",
       "4  386766321  "
      ]
     },
     "execution_count": 30,
     "metadata": {},
     "output_type": "execute_result"
    }
   ],
   "source": [
    "data.head()"
   ]
  },
  {
   "cell_type": "code",
   "execution_count": 31,
   "metadata": {},
   "outputs": [],
   "source": [
    "price_date = data['Date']\n",
    "price_close = data['Close']"
   ]
  },
  {
   "cell_type": "code",
   "execution_count": 32,
   "metadata": {},
   "outputs": [
    {
     "data": {
      "image/png": "[encoded data removed]",
      "text/plain": [
       "<Figure size 576x396 with 1 Axes>"
      ]
     },
     "metadata": {},
     "output_type": "display_data"
    }
   ],
   "source": [
    "plt.plot_date(price_date, price_close, linestyle='solid')\n",
    "\n",
    "plt.gcf().autofmt_xdate()\n",
    "\n",
    "plt.title('Bitcoin Prices')\n",
    "plt.xlabel('Date')\n",
    "plt.ylabel('Closing Price')\n",
    "\n",
    "plt.tight_layout()\n",
    "\n",
    "plt.show()"
   ]
  },
  {
   "cell_type": "code",
   "execution_count": null,
   "metadata": {},
   "outputs": [],
   "source": []
  }
 ],
 "metadata": {
  "kernelspec": {
   "display_name": "Python 3",
   "language": "python",
   "name": "python3"
  },
  "language_info": {
   "codemirror_mode": {
    "name": "ipython",
    "version": 3
   },
   "file_extension": ".py",
   "mimetype": "text/x-python",
   "name": "python",
   "nbconvert_exporter": "python",
   "pygments_lexer": "ipython3",
   "version": "3.7.4"
  }
 },
 "nbformat": 4,
 "nbformat_minor": 4
}
