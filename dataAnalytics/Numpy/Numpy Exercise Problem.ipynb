{
 "cells": [
  {
   "cell_type": "code",
   "execution_count": 1,
   "metadata": {},
   "outputs": [],
   "source": [
    "import numpy as np"
   ]
  },
  {
   "cell_type": "markdown",
   "metadata": {},
   "source": [
    "# Numpy Exercise Problem"
   ]
  },
  {
   "cell_type": "markdown",
   "metadata": {},
   "source": [
    "#### 1.  Give below numpy array. write and expression which will replace all negative value with 1000\n",
    "\n",
    "* arr = np.array([5, 0 , -3, 9 ,10,-5, -1])"
   ]
  },
  {
   "cell_type": "code",
   "execution_count": 3,
   "metadata": {},
   "outputs": [],
   "source": [
    "arr = np.array([5, 0 , -3, 9 ,10,-5, -1])"
   ]
  },
  {
   "cell_type": "code",
   "execution_count": 10,
   "metadata": {},
   "outputs": [],
   "source": [
    "arr[arr < 0] = 1000"
   ]
  },
  {
   "cell_type": "code",
   "execution_count": null,
   "metadata": {},
   "outputs": [],
   "source": []
  },
  {
   "cell_type": "code",
   "execution_count": null,
   "metadata": {},
   "outputs": [],
   "source": []
  },
  {
   "cell_type": "markdown",
   "metadata": {},
   "source": [
    "#### 2.  Count how many ones in  array.\n",
    "\n",
    " * array([[1, 1, 0, 0, 0, 1, 1, 1, 1, 0],\n",
    "       [0, 1, 1, 1, 1, 0, 1, 1, 1, 0],\n",
    "       [1, 0, 0, 0, 0, 1, 1, 0, 0, 1],\n",
    "       [1, 1, 1, 0, 1, 0, 0, 0, 0, 1],\n",
    "       [0, 1, 0, 1, 0, 1, 1, 1, 1, 1],\n",
    "       [0, 0, 1, 1, 1, 0, 0, 1, 1, 1],\n",
    "       [1, 1, 0, 0, 1, 1, 1, 1, 1, 0],\n",
    "       [0, 1, 1, 1, 0, 1, 1, 1, 1, 0],\n",
    "       [0, 1, 1, 0, 1, 1, 1, 1, 1, 0],\n",
    "       [1, 1, 0, 1, 0, 0, 0, 1, 1, 1]])"
   ]
  },
  {
   "cell_type": "code",
   "execution_count": 13,
   "metadata": {},
   "outputs": [],
   "source": [
    "arr = np.array([[1, 1, 0, 0, 0, 1, 1, 1, 1, 0],\n",
    "[0, 1, 1, 1, 1, 0, 1, 1, 1, 0],\n",
    "[1, 0, 0, 0, 0, 1, 1, 0, 0, 1],\n",
    "[1, 1, 1, 0, 1, 0, 0, 0, 0, 1],\n",
    "[0, 1, 0, 1, 0, 1, 1, 1, 1, 1],\n",
    "[0, 0, 1, 1, 1, 0, 0, 1, 1, 1],\n",
    "[1, 1, 0, 0, 1, 1, 1, 1, 1, 0],\n",
    "[0, 1, 1, 1, 0, 1, 1, 1, 1, 0],\n",
    "[0, 1, 1, 0, 1, 1, 1, 1, 1, 0],\n",
    "[1, 1, 0, 1, 0, 0, 0, 1, 1, 1]])"
   ]
  },
  {
   "cell_type": "code",
   "execution_count": 15,
   "metadata": {},
   "outputs": [
    {
     "data": {
      "text/plain": [
       "62"
      ]
     },
     "execution_count": 15,
     "metadata": {},
     "output_type": "execute_result"
    }
   ],
   "source": [
    "sum(sum(arr))"
   ]
  },
  {
   "cell_type": "code",
   "execution_count": 16,
   "metadata": {},
   "outputs": [
    {
     "data": {
      "text/plain": [
       "62"
      ]
     },
     "execution_count": 16,
     "metadata": {},
     "output_type": "execute_result"
    }
   ],
   "source": [
    "np.sum(arr)"
   ]
  },
  {
   "cell_type": "code",
   "execution_count": null,
   "metadata": {},
   "outputs": [],
   "source": []
  },
  {
   "cell_type": "code",
   "execution_count": null,
   "metadata": {},
   "outputs": [],
   "source": []
  },
  {
   "cell_type": "code",
   "execution_count": null,
   "metadata": {},
   "outputs": [],
   "source": []
  },
  {
   "cell_type": "markdown",
   "metadata": {},
   "source": [
    "#### 3.  create numpy arrayof values between 1000 and 2000, all number divisible by 5 but not 15."
   ]
  },
  {
   "cell_type": "code",
   "execution_count": 17,
   "metadata": {},
   "outputs": [
    {
     "name": "stdout",
     "output_type": "stream",
     "text": [
      "1000\n",
      "1010\n",
      "1015\n",
      "1025\n",
      "1030\n",
      "1040\n",
      "1045\n",
      "1055\n",
      "1060\n",
      "1070\n",
      "1075\n",
      "1085\n",
      "1090\n",
      "1100\n",
      "1105\n",
      "1115\n",
      "1120\n",
      "1130\n",
      "1135\n",
      "1145\n",
      "1150\n",
      "1160\n",
      "1165\n",
      "1175\n",
      "1180\n",
      "1190\n",
      "1195\n",
      "1205\n",
      "1210\n",
      "1220\n",
      "1225\n",
      "1235\n",
      "1240\n",
      "1250\n",
      "1255\n",
      "1265\n",
      "1270\n",
      "1280\n",
      "1285\n",
      "1295\n",
      "1300\n",
      "1310\n",
      "1315\n",
      "1325\n",
      "1330\n",
      "1340\n",
      "1345\n",
      "1355\n",
      "1360\n",
      "1370\n",
      "1375\n",
      "1385\n",
      "1390\n",
      "1400\n",
      "1405\n",
      "1415\n",
      "1420\n",
      "1430\n",
      "1435\n",
      "1445\n",
      "1450\n",
      "1460\n",
      "1465\n",
      "1475\n",
      "1480\n",
      "1490\n",
      "1495\n",
      "1505\n",
      "1510\n",
      "1520\n",
      "1525\n",
      "1535\n",
      "1540\n",
      "1550\n",
      "1555\n",
      "1565\n",
      "1570\n",
      "1580\n",
      "1585\n",
      "1595\n",
      "1600\n",
      "1610\n",
      "1615\n",
      "1625\n",
      "1630\n",
      "1640\n",
      "1645\n",
      "1655\n",
      "1660\n",
      "1670\n",
      "1675\n",
      "1685\n",
      "1690\n",
      "1700\n",
      "1705\n",
      "1715\n",
      "1720\n",
      "1730\n",
      "1735\n",
      "1745\n",
      "1750\n",
      "1760\n",
      "1765\n",
      "1775\n",
      "1780\n",
      "1790\n",
      "1795\n",
      "1805\n",
      "1810\n",
      "1820\n",
      "1825\n",
      "1835\n",
      "1840\n",
      "1850\n",
      "1855\n",
      "1865\n",
      "1870\n",
      "1880\n",
      "1885\n",
      "1895\n",
      "1900\n",
      "1910\n",
      "1915\n",
      "1925\n",
      "1930\n",
      "1940\n",
      "1945\n",
      "1955\n",
      "1960\n",
      "1970\n",
      "1975\n",
      "1985\n",
      "1990\n"
     ]
    }
   ],
   "source": [
    "for i in range(1000,2000,5):\n",
    "    if(i % 15 != 0):\n",
    "        print(i)"
   ]
  },
  {
   "cell_type": "code",
   "execution_count": 20,
   "metadata": {},
   "outputs": [],
   "source": [
    "arr = np.arange(1000,2000,5)"
   ]
  },
  {
   "cell_type": "code",
   "execution_count": 23,
   "metadata": {},
   "outputs": [
    {
     "data": {
      "text/plain": [
       "array([1000, 1010, 1015, 1025, 1030, 1040, 1045, 1055, 1060, 1070, 1075,\n",
       "       1085, 1090, 1100, 1105, 1115, 1120, 1130, 1135, 1145, 1150, 1160,\n",
       "       1165, 1175, 1180, 1190, 1195, 1205, 1210, 1220, 1225, 1235, 1240,\n",
       "       1250, 1255, 1265, 1270, 1280, 1285, 1295, 1300, 1310, 1315, 1325,\n",
       "       1330, 1340, 1345, 1355, 1360, 1370, 1375, 1385, 1390, 1400, 1405,\n",
       "       1415, 1420, 1430, 1435, 1445, 1450, 1460, 1465, 1475, 1480, 1490,\n",
       "       1495, 1505, 1510, 1520, 1525, 1535, 1540, 1550, 1555, 1565, 1570,\n",
       "       1580, 1585, 1595, 1600, 1610, 1615, 1625, 1630, 1640, 1645, 1655,\n",
       "       1660, 1670, 1675, 1685, 1690, 1700, 1705, 1715, 1720, 1730, 1735,\n",
       "       1745, 1750, 1760, 1765, 1775, 1780, 1790, 1795, 1805, 1810, 1820,\n",
       "       1825, 1835, 1840, 1850, 1855, 1865, 1870, 1880, 1885, 1895, 1900,\n",
       "       1910, 1915, 1925, 1930, 1940, 1945, 1955, 1960, 1970, 1975, 1985,\n",
       "       1990])"
      ]
     },
     "execution_count": 23,
     "metadata": {},
     "output_type": "execute_result"
    }
   ],
   "source": [
    "arr[arr % 15 != 0]"
   ]
  },
  {
   "cell_type": "code",
   "execution_count": 24,
   "metadata": {},
   "outputs": [
    {
     "data": {
      "text/plain": [
       "200"
      ]
     },
     "execution_count": 24,
     "metadata": {},
     "output_type": "execute_result"
    }
   ],
   "source": [
    "len(arr)"
   ]
  },
  {
   "cell_type": "code",
   "execution_count": null,
   "metadata": {},
   "outputs": [],
   "source": []
  },
  {
   "cell_type": "markdown",
   "metadata": {},
   "source": [
    "#### 4.  Write a Function which calculate standard deviation of 1-D array and compare result with inbuilt function\n",
    "\n",
    "*  def cal_std(arr):\n",
    "         pass\n",
    "        \n",
    "        \n",
    " <img  align=\"left\" src=\"https://cdn.kastatic.org/googleusercontent/N8xzWFc6eo0XBHEXZjz1SwvLSnPezvhTRF1P17kdjUG_tnJivGKkyCxbwVe4MZ0-USOxIZBohgcjdi8e7Z4Hswcqfw\"  width=200 height = 200/>"
   ]
  },
  {
   "cell_type": "code",
   "execution_count": 30,
   "metadata": {},
   "outputs": [],
   "source": [
    "a = np.random.normal(0, 10 , 100)"
   ]
  },
  {
   "cell_type": "code",
   "execution_count": 31,
   "metadata": {},
   "outputs": [
    {
     "data": {
      "text/plain": [
       "9.749957579714293"
      ]
     },
     "execution_count": 31,
     "metadata": {},
     "output_type": "execute_result"
    }
   ],
   "source": [
    "np.std(a)"
   ]
  },
  {
   "cell_type": "code",
   "execution_count": 37,
   "metadata": {},
   "outputs": [],
   "source": [
    "def cal_std(arr):\n",
    "    mean = np.mean(a)\n",
    "    diff = a - mean\n",
    "    square = np.sum(np.power(diff, 2))/len(a)\n",
    "    root = np.power(square, 0.5)\n",
    "    return root"
   ]
  },
  {
   "cell_type": "code",
   "execution_count": 38,
   "metadata": {},
   "outputs": [
    {
     "data": {
      "text/plain": [
       "9.749957579714293"
      ]
     },
     "execution_count": 38,
     "metadata": {},
     "output_type": "execute_result"
    }
   ],
   "source": [
    "cal_std(a)"
   ]
  },
  {
   "cell_type": "code",
   "execution_count": 44,
   "metadata": {},
   "outputs": [
    {
     "data": {
      "text/plain": [
       "array([[ 0,  1,  2,  3,  4],\n",
       "       [ 5,  6,  7,  8,  9],\n",
       "       [10, 11, 12, 13, 14],\n",
       "       [15, 16, 17, 18, 19]])"
      ]
     },
     "execution_count": 44,
     "metadata": {},
     "output_type": "execute_result"
    }
   ],
   "source": [
    "x = np.arange(20).reshape(4,5)\n",
    "x"
   ]
  },
  {
   "cell_type": "code",
   "execution_count": null,
   "metadata": {},
   "outputs": [],
   "source": []
  }
 ],
 "metadata": {
  "kernelspec": {
   "display_name": "Python 3",
   "language": "python",
   "name": "python3"
  },
  "language_info": {
   "codemirror_mode": {
    "name": "ipython",
    "version": 3
   },
   "file_extension": ".py",
   "mimetype": "text/x-python",
   "name": "python",
   "nbconvert_exporter": "python",
   "pygments_lexer": "ipython3",
   "version": "3.7.4"
  }
 },
 "nbformat": 4,
 "nbformat_minor": 2
}
